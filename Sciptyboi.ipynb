{
 "cells": [
  {
   "cell_type": "code",
   "execution_count": null,
   "metadata": {},
   "outputs": [],
   "source": [
    "import os\n",
    "import glob\n",
    "import time\n",
    "import csv\n",
    "import datetime\n",
    "    \n",
    "os.system('modprobe w1-gpio')\n",
    "os.system('modprobe w1-therm')\n",
    " \n",
    "base_dir = '/sys/bus/w1/devices/'\n",
    "device_folder = glob.glob(base_dir + '28*')[0]\n",
    "device_file = device_folder + '/w1_slave'\n",
    "\n",
    "#initialize the csv file\n",
    "\n",
    "f = open(\"values.csv\", \"w\") # overwrite any existing file\n",
    "f.write(\"time,celcius,farenheit\\n\")\n",
    "f.close()\n",
    "\n",
    "\n",
    "def read_temp_raw():\n",
    "    f = open(device_file, 'r')\n",
    "    lines = f.readlines()\n",
    "    f.close()\n",
    "    return lines\n",
    "\n",
    "def read_temp():\n",
    "    lines = read_temp_raw()\n",
    "    while lines[0].strip()[-3:] != 'YES':\n",
    "        time.sleep(0.2)\n",
    "        lines = read_temp_raw()\n",
    "    equals_pos = lines[1].find('t=')\n",
    "    if equals_pos != -1:\n",
    "        temp_string = lines[1][equals_pos+2:]\n",
    "        temp_c = float(temp_string) / 1000.0\n",
    "        temp_f = temp_c * 9.0 / 5.0 + 32.0\n",
    "        return temp_c, temp_f\n",
    "    \n",
    "while True:\n",
    "    temps = read_temp()\n",
    "    f = open(\"values.csv\", \"a\") #append to file\n",
    "    f.write(\"{0},{1},{2}\\n\".format(datetime.datetime.now(), temps[0], temps[1]))\n",
    "    f.close()\n",
    "    sleep(1)"
   ]
  },
  {
   "cell_type": "code",
   "execution_count": null,
   "metadata": {},
   "outputs": [
    {
     "name": "stdout",
     "output_type": "stream",
     "text": [
      " * Serving Flask app \"__main__\" (lazy loading)\n",
      " * Environment: production\n",
      "\u001b[31m   WARNING: This is a development server. Do not use it in a production deployment.\u001b[0m\n",
      "\u001b[2m   Use a production WSGI server instead.\u001b[0m\n",
      " * Debug mode: off\n"
     ]
    },
    {
     "name": "stderr",
     "output_type": "stream",
     "text": [
      " * Running on http://0.0.0.0:5000/ (Press CTRL+C to quit)\n",
      "127.0.0.1 - - [29/Mar/2021 16:27:05] \"\u001b[37mGET / HTTP/1.1\u001b[0m\" 200 -\n",
      "127.0.0.1 - - [29/Mar/2021 16:27:06] \"\u001b[37mGET /get HTTP/1.1\u001b[0m\" 200 -\n"
     ]
    }
   ],
   "source": [
    "import csv\n",
    "from flask import Flask\n",
    "from flask import send_file\n",
    "from flask import request\n",
    "import subprocess\n",
    "import sys\n",
    "import datetime\n",
    "\n",
    "# Starts the script\n",
    "\n",
    "pid = subprocess.Popen([sys.executable, \"sensors.py\"])\n",
    "\n",
    "# Flask Server\n",
    "\n",
    "app = Flask(__name__)\n",
    "\n",
    "@app.route('/')\n",
    "def hello_world():\n",
    "    return \"\"\"\n",
    "    <html>\n",
    "  <head>\n",
    "    <title>Aedea's Web Server</title>\n",
    "  </head>\n",
    "  <body>\n",
    "    <h1>Current time: {0}</h1>\n",
    "    <p>Reload this page when you start and copy the time into a document.</p>\n",
    "    <br><br>\n",
    "    <a href=\"/get\">Download CSV</a>\n",
    "    <br />\n",
    "    <h4>Directions</h4>\n",
    "    <p>\n",
    "      1. Plug in Raspberry Pi, this will start collecting data ASAP<br />2.\n",
    "      Record time<br />3. Perform experiment<br />4. When done, press \"Download\n",
    "      CSV\" and record the time<br />5. Get rid of any data that's outside the\n",
    "      recorded start and stop times.\n",
    "    </p>\n",
    "  </body>\n",
    "</html>\n",
    "\"\"\".format(datetime.datetime.now())\n",
    "\n",
    "@app.route('/get')\n",
    "def return_files_tut():\n",
    "#     startDate = datetime.datetime.strptime(request.args.get('start'), '%Y-%m-%d %H:%M:%S.%f')\n",
    "#     endDate = datetime.datetime.strptime(request.args.get('end'), '%Y-%m-%d %H:%M:%S.%f')\n",
    "#     with open('values.csv', mode='w') as csvFile:\n",
    "        \n",
    "        \n",
    "    try:\n",
    "        return send_file('values.csv', attachment_filename='values.csv')\n",
    "    except Exception as e:\n",
    "        return str(e)\n",
    "    \n",
    "\n",
    "if __name__ == '__main__':\n",
    "    app.run(host=\"0.0.0.0\")"
   ]
  },
  {
   "cell_type": "code",
   "execution_count": null,
   "metadata": {},
   "outputs": [],
   "source": []
  }
 ],
 "metadata": {
  "kernelspec": {
   "display_name": "Python 3",
   "language": "python",
   "name": "python3"
  },
  "language_info": {
   "codemirror_mode": {
    "name": "ipython",
    "version": 3
   },
   "file_extension": ".py",
   "mimetype": "text/x-python",
   "name": "python",
   "nbconvert_exporter": "python",
   "pygments_lexer": "ipython3",
   "version": "3.9.1"
  }
 },
 "nbformat": 4,
 "nbformat_minor": 4
}
